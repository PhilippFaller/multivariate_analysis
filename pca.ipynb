{
 "cells": [
  {
   "cell_type": "code",
   "execution_count": 1,
   "metadata": {},
   "outputs": [],
   "source": [
    "import numpy as np\n",
    "import pandas as pd\n",
    "import matplotlib.pyplot as plt"
   ]
  },
  {
   "cell_type": "code",
   "execution_count": 5,
   "metadata": {},
   "outputs": [
    {
     "data": {
      "text/html": [
       "<div>\n",
       "<style scoped>\n",
       "    .dataframe tbody tr th:only-of-type {\n",
       "        vertical-align: middle;\n",
       "    }\n",
       "\n",
       "    .dataframe tbody tr th {\n",
       "        vertical-align: top;\n",
       "    }\n",
       "\n",
       "    .dataframe thead th {\n",
       "        text-align: right;\n",
       "    }\n",
       "</style>\n",
       "<table border=\"1\" class=\"dataframe\">\n",
       "  <thead>\n",
       "    <tr style=\"text-align: right;\">\n",
       "      <th></th>\n",
       "      <th>Lesen</th>\n",
       "      <th>Mathe</th>\n",
       "      <th>Naturwissenschaft</th>\n",
       "    </tr>\n",
       "  </thead>\n",
       "  <tbody>\n",
       "    <tr>\n",
       "      <th>count</th>\n",
       "      <td>31.000000</td>\n",
       "      <td>31.000000</td>\n",
       "      <td>31.000000</td>\n",
       "    </tr>\n",
       "    <tr>\n",
       "      <th>mean</th>\n",
       "      <td>493.451613</td>\n",
       "      <td>493.161290</td>\n",
       "      <td>492.612903</td>\n",
       "    </tr>\n",
       "    <tr>\n",
       "      <th>std</th>\n",
       "      <td>33.307495</td>\n",
       "      <td>46.828123</td>\n",
       "      <td>37.669331</td>\n",
       "    </tr>\n",
       "    <tr>\n",
       "      <th>min</th>\n",
       "      <td>396.000000</td>\n",
       "      <td>334.000000</td>\n",
       "      <td>375.000000</td>\n",
       "    </tr>\n",
       "    <tr>\n",
       "      <th>25%</th>\n",
       "      <td>479.500000</td>\n",
       "      <td>473.000000</td>\n",
       "      <td>477.000000</td>\n",
       "    </tr>\n",
       "    <tr>\n",
       "      <th>50%</th>\n",
       "      <td>497.000000</td>\n",
       "      <td>503.000000</td>\n",
       "      <td>496.000000</td>\n",
       "    </tr>\n",
       "    <tr>\n",
       "      <th>75%</th>\n",
       "      <td>519.000000</td>\n",
       "      <td>524.500000</td>\n",
       "      <td>516.000000</td>\n",
       "    </tr>\n",
       "    <tr>\n",
       "      <th>max</th>\n",
       "      <td>546.000000</td>\n",
       "      <td>557.000000</td>\n",
       "      <td>552.000000</td>\n",
       "    </tr>\n",
       "  </tbody>\n",
       "</table>\n",
       "</div>"
      ],
      "text/plain": [
       "            Lesen       Mathe  Naturwissenschaft\n",
       "count   31.000000   31.000000          31.000000\n",
       "mean   493.451613  493.161290         492.612903\n",
       "std     33.307495   46.828123          37.669331\n",
       "min    396.000000  334.000000         375.000000\n",
       "25%    479.500000  473.000000         477.000000\n",
       "50%    497.000000  503.000000         496.000000\n",
       "75%    519.000000  524.500000         516.000000\n",
       "max    546.000000  557.000000         552.000000"
      ]
     },
     "execution_count": 5,
     "metadata": {},
     "output_type": "execute_result"
    }
   ],
   "source": [
    "data = pd.read_csv('data/pisa.csv', names=['Lesen', 'Mathe', 'Naturwissenschaft'])\n",
    "data.describe()"
   ]
  },
  {
   "cell_type": "code",
   "execution_count": 10,
   "metadata": {},
   "outputs": [
    {
     "data": {
      "text/plain": [
       "array([[  34.5483871 ,   39.83870968,   35.38709677],\n",
       "       [  13.5483871 ,   26.83870968,    3.38709677],\n",
       "       [ -97.4516129 , -159.16129032, -117.61290323],\n",
       "       [   3.5483871 ,   20.83870968,  -11.61290323],\n",
       "       [  -9.4516129 ,   -3.16129032,   -5.61290323],\n",
       "       [  52.5483871 ,   42.83870968,   45.38709677],\n",
       "       [  11.5483871 ,   23.83870968,    7.38709677],\n",
       "       [ -19.4516129 ,  -46.16129032,  -31.61290323],\n",
       "       [  29.5483871 ,   35.83870968,   39.38709677],\n",
       "       [  33.5483871 ,    9.83870968,   20.38709677],\n",
       "       [  13.5483871 ,   20.83870968,    3.38709677],\n",
       "       [  -6.4516129 ,  -36.16129032,  -14.61290323],\n",
       "       [  28.5483871 ,   63.83870968,   57.38709677],\n",
       "       [  40.5483871 ,   39.83870968,   36.38709677],\n",
       "       [  31.5483871 ,   53.83870968,   59.38709677],\n",
       "       [ -35.4516129 ,  -30.16129032,  -32.61290323],\n",
       "       [ -10.4516129 ,   20.83870968,  -16.61290323],\n",
       "       [ -52.4516129 ,  -47.16129032,  -49.61290323],\n",
       "       [ -71.4516129 , -106.16129032,  -70.61290323],\n",
       "       [  35.5483871 ,   43.83870968,   35.38709677],\n",
       "       [  11.5483871 ,    5.83870968,    7.38709677],\n",
       "       [  13.5483871 ,   21.83870968,   26.38709677],\n",
       "       [ -14.4516129 ,  -23.16129032,   -9.61290323],\n",
       "       [ -23.4516129 ,  -39.16129032,  -33.61290323],\n",
       "       [ -31.4516129 ,  -15.16129032,  -32.61290323],\n",
       "       [  22.5483871 ,   16.83870968,   19.38709677],\n",
       "       [   0.5483871 ,   35.83870968,    3.38709677],\n",
       "       [  -0.4516129 ,  -17.16129032,   -1.61290323],\n",
       "       [  -1.4516129 ,    4.83870968,   18.38709677],\n",
       "       [ -13.4516129 ,   -5.16129032,    3.38709677],\n",
       "       [  10.5483871 ,   -0.16129032,    6.38709677]])"
      ]
     },
     "execution_count": 10,
     "metadata": {},
     "output_type": "execute_result"
    }
   ],
   "source": [
    "n = data.shape[0]\n",
    "c = np.identity(n) - 1/n * np.ones((n, n))\n",
    "x = np.dot(c, data.values)\n",
    "x"
   ]
  },
  {
   "cell_type": "code",
   "execution_count": 11,
   "metadata": {},
   "outputs": [
    {
     "data": {
      "text/plain": [
       "array([[1109.38924731, 1428.32473118, 1195.61397849],\n",
       "       [1428.32473118, 2192.87311828, 1644.0311828 ],\n",
       "       [1195.61397849, 1644.0311828 , 1418.97849462]])"
      ]
     },
     "execution_count": 11,
     "metadata": {},
     "output_type": "execute_result"
    }
   ],
   "source": [
    "cov = 1/(n-1) * np.dot(x.T, x)\n",
    "cov"
   ]
  },
  {
   "cell_type": "code",
   "execution_count": 12,
   "metadata": {},
   "outputs": [
    {
     "data": {
      "text/plain": [
       "array([[1.        , 0.91575274, 0.95293022],\n",
       "       [0.91575274, 1.        , 0.93199888],\n",
       "       [0.95293022, 0.93199888, 1.        ]])"
      ]
     },
     "execution_count": 12,
     "metadata": {},
     "output_type": "execute_result"
    }
   ],
   "source": [
    "std = np.sqrt(np.diag(cov))\n",
    "x_std = np.dot(x, np.diag(1/std))\n",
    "corr = 1/(n-1) * np.dot(x_std.T, x_std)\n",
    "corr"
   ]
  },
  {
   "cell_type": "code",
   "execution_count": 57,
   "metadata": {},
   "outputs": [
    {
     "data": {
      "text/plain": [
       "array([9.42779539, 1.17960443, 1.65082027])"
      ]
     },
     "execution_count": 57,
     "metadata": {},
     "output_type": "execute_result"
    }
   ],
   "source": [
    "l, v = np.linalg.eig(corr)\n",
    "a = np.sqrt(l*n)\n",
    "a"
   ]
  },
  {
   "cell_type": "code",
   "execution_count": 55,
   "metadata": {},
   "outputs": [
    {
     "data": {
      "text/plain": [
       "array([0.95573469, 0.01496201, 0.02930331])"
      ]
     },
     "execution_count": 55,
     "metadata": {},
     "output_type": "execute_result"
    }
   ],
   "source": [
    "l / l.sum()"
   ]
  },
  {
   "cell_type": "code",
   "execution_count": 17,
   "metadata": {},
   "outputs": [
    {
     "data": {
      "text/plain": [
       "array([[-0.5776974 , -0.59936162,  0.55410411],\n",
       "       [-0.57332755, -0.18524162, -0.79811094],\n",
       "       [-0.58100021,  0.77874976,  0.23661692]])"
      ]
     },
     "execution_count": 17,
     "metadata": {},
     "output_type": "execute_result"
    }
   ],
   "source": [
    "v"
   ]
  },
  {
   "cell_type": "code",
   "execution_count": 42,
   "metadata": {},
   "outputs": [
    {
     "data": {
      "text/plain": [
       "array([[-63.35905356,  -0.52907121,  -4.27912063],\n",
       "       [-25.18214347, -10.45432856, -13.11160628],\n",
       "       [215.88221639,  -3.69896831,  45.20082391],\n",
       "       [ -7.25020111, -15.03050908, -17.41323559],\n",
       "       [ 10.53372495,   1.87948949,  -4.04222508],\n",
       "       [-81.28759145,  -4.08580756,   5.66658979],\n",
       "       [-24.63076686,  -5.5848814 , -10.87901401],\n",
       "       [ 56.06978879,  -4.40899834,  18.5834641 ],\n",
       "       [-60.50125721,   6.32370242,  -2.91072977],\n",
       "       [-36.86652668,  -6.05370731,  15.56084952],\n",
       "       [-21.7421782 ,  -9.34287881,  -8.32294066],\n",
       "       [ 32.94944363,  -0.81436963,  21.82819585],\n",
       "       [-86.43473481,  15.75379429, -21.55283551],\n",
       "       [-67.40623816,  -3.34649115,  -0.71787903],\n",
       "       [-83.59655196,  17.36562521, -11.43617997],\n",
       "       [ 56.72070665,   1.43817178,  -3.28859359],\n",
       "       [  3.74256351, -10.53319526, -26.35377777],\n",
       "       [ 86.16513422,   1.53768091,  -3.16296524],\n",
       "       [143.16871436,   7.50106243,  28.4286465 ],\n",
       "       [-66.23006114,  -1.86939932,  -6.91746026],\n",
       "       [-14.31087103,  -2.25053216,   3.48698283],\n",
       "       [-35.67851049,   8.38312411,  -3.67886243],\n",
       "       [ 27.21276369,   5.466131  ,   8.20300539],\n",
       "       [ 55.52928598,  -4.86574277,  10.30703726],\n",
       "       [ 45.81000386,  -3.73789905, -13.04384117],\n",
       "       [-33.94414791,  -1.53617066,   3.64231082],\n",
       "       [-22.8320252 ,  -4.32980215, -27.49795816],\n",
       "       [ 11.03703317,   2.19361673,  13.06473272],\n",
       "       [-12.61847957,  14.29265787,  -0.31547357],\n",
       "       [  8.76216778,  11.65616707,  -2.53286737],\n",
       "       [ -9.71220815,  -1.31847057,   7.48492741]])"
      ]
     },
     "execution_count": 42,
     "metadata": {},
     "output_type": "execute_result"
    }
   ],
   "source": [
    "f = np.dot(x, v)\n",
    "f"
   ]
  },
  {
   "cell_type": "code",
   "execution_count": 67,
   "metadata": {},
   "outputs": [
    {
     "data": {
      "image/png": "[encoded data removed]",
      "text/plain": [
       "<Figure size 432x288 with 1 Axes>"
      ]
     },
     "metadata": {
      "needs_background": "light"
     },
     "output_type": "display_data"
    }
   ],
   "source": [
    "fig = plt.figure()\n",
    "ax = fig.add_subplot(111, projection='3d')\n",
    "ax.scatter3D(x[:, 0], x[:, 1], x[:, 2])\n",
    "\n",
    "x_re = np.dot(f[:, :2], v[:, :2].T)\n",
    "ax.scatter3D(x_re[:, 0], x_re[:, 1], x_re[:, 2])\n",
    "\n",
    "t = np.trace(cov)\n",
    "for i in range(3):\n",
    "    ax.quiver(0, 0, 0, *v[:, i], length=l[i]*200 / l.sum())"
   ]
  }
 ],
 "metadata": {
  "kernelspec": {
   "display_name": "Python 3",
   "language": "python",
   "name": "python3"
  },
  "language_info": {
   "codemirror_mode": {
    "name": "ipython",
    "version": 3
   },
   "file_extension": ".py",
   "mimetype": "text/x-python",
   "name": "python",
   "nbconvert_exporter": "python",
   "pygments_lexer": "ipython3",
   "version": "3.8.2"
  }
 },
 "nbformat": 4,
 "nbformat_minor": 4
}
