{
 "cells": [
  {
   "cell_type": "code",
   "execution_count": 1,
   "metadata": {},
   "outputs": [],
   "source": [
    "import pandas as pd\n",
    "import numpy as np"
   ]
  },
  {
   "cell_type": "code",
   "execution_count": 2,
   "metadata": {},
   "outputs": [
    {
     "data": {
      "text/html": [
       "<div>\n",
       "<style scoped>\n",
       "    .dataframe tbody tr th:only-of-type {\n",
       "        vertical-align: middle;\n",
       "    }\n",
       "\n",
       "    .dataframe tbody tr th {\n",
       "        vertical-align: top;\n",
       "    }\n",
       "\n",
       "    .dataframe thead th {\n",
       "        text-align: right;\n",
       "    }\n",
       "</style>\n",
       "<table border=\"1\" class=\"dataframe\">\n",
       "  <thead>\n",
       "    <tr style=\"text-align: right;\">\n",
       "      <th></th>\n",
       "      <th>GRADE</th>\n",
       "      <th>PSI</th>\n",
       "      <th>TUCE</th>\n",
       "      <th>GPA</th>\n",
       "    </tr>\n",
       "  </thead>\n",
       "  <tbody>\n",
       "    <tr>\n",
       "      <th>count</th>\n",
       "      <td>32.000000</td>\n",
       "      <td>32.000000</td>\n",
       "      <td>32.000000</td>\n",
       "      <td>32.000000</td>\n",
       "    </tr>\n",
       "    <tr>\n",
       "      <th>mean</th>\n",
       "      <td>0.343750</td>\n",
       "      <td>0.437500</td>\n",
       "      <td>21.937500</td>\n",
       "      <td>3.117188</td>\n",
       "    </tr>\n",
       "    <tr>\n",
       "      <th>std</th>\n",
       "      <td>0.482559</td>\n",
       "      <td>0.504016</td>\n",
       "      <td>3.901509</td>\n",
       "      <td>0.466713</td>\n",
       "    </tr>\n",
       "    <tr>\n",
       "      <th>min</th>\n",
       "      <td>0.000000</td>\n",
       "      <td>0.000000</td>\n",
       "      <td>12.000000</td>\n",
       "      <td>2.060000</td>\n",
       "    </tr>\n",
       "    <tr>\n",
       "      <th>25%</th>\n",
       "      <td>0.000000</td>\n",
       "      <td>0.000000</td>\n",
       "      <td>19.750000</td>\n",
       "      <td>2.812500</td>\n",
       "    </tr>\n",
       "    <tr>\n",
       "      <th>50%</th>\n",
       "      <td>0.000000</td>\n",
       "      <td>0.000000</td>\n",
       "      <td>22.500000</td>\n",
       "      <td>3.065000</td>\n",
       "    </tr>\n",
       "    <tr>\n",
       "      <th>75%</th>\n",
       "      <td>1.000000</td>\n",
       "      <td>1.000000</td>\n",
       "      <td>25.000000</td>\n",
       "      <td>3.515000</td>\n",
       "    </tr>\n",
       "    <tr>\n",
       "      <th>max</th>\n",
       "      <td>1.000000</td>\n",
       "      <td>1.000000</td>\n",
       "      <td>29.000000</td>\n",
       "      <td>4.000000</td>\n",
       "    </tr>\n",
       "  </tbody>\n",
       "</table>\n",
       "</div>"
      ],
      "text/plain": [
       "           GRADE        PSI       TUCE        GPA\n",
       "count  32.000000  32.000000  32.000000  32.000000\n",
       "mean    0.343750   0.437500  21.937500   3.117188\n",
       "std     0.482559   0.504016   3.901509   0.466713\n",
       "min     0.000000   0.000000  12.000000   2.060000\n",
       "25%     0.000000   0.000000  19.750000   2.812500\n",
       "50%     0.000000   0.000000  22.500000   3.065000\n",
       "75%     1.000000   1.000000  25.000000   3.515000\n",
       "max     1.000000   1.000000  29.000000   4.000000"
      ]
     },
     "execution_count": 2,
     "metadata": {},
     "output_type": "execute_result"
    }
   ],
   "source": [
    "data = pd.read_csv('data/psi.csv', names=['GRADE', 'PSI', 'TUCE', 'GPA'])\n",
    "data.describe()"
   ]
  },
  {
   "cell_type": "code",
   "execution_count": 7,
   "metadata": {},
   "outputs": [
    {
     "data": {
      "text/html": [
       "<div>\n",
       "<style scoped>\n",
       "    .dataframe tbody tr th:only-of-type {\n",
       "        vertical-align: middle;\n",
       "    }\n",
       "\n",
       "    .dataframe tbody tr th {\n",
       "        vertical-align: top;\n",
       "    }\n",
       "\n",
       "    .dataframe thead th {\n",
       "        text-align: right;\n",
       "    }\n",
       "</style>\n",
       "<table border=\"1\" class=\"dataframe\">\n",
       "  <thead>\n",
       "    <tr style=\"text-align: right;\">\n",
       "      <th></th>\n",
       "      <th>GRADE</th>\n",
       "      <th>PSI</th>\n",
       "      <th>TUCE</th>\n",
       "      <th>GPA</th>\n",
       "    </tr>\n",
       "  </thead>\n",
       "  <tbody>\n",
       "    <tr>\n",
       "      <th>0</th>\n",
       "      <td>0</td>\n",
       "      <td>0</td>\n",
       "      <td>20</td>\n",
       "      <td>2.66</td>\n",
       "    </tr>\n",
       "    <tr>\n",
       "      <th>1</th>\n",
       "      <td>0</td>\n",
       "      <td>0</td>\n",
       "      <td>22</td>\n",
       "      <td>2.89</td>\n",
       "    </tr>\n",
       "    <tr>\n",
       "      <th>2</th>\n",
       "      <td>0</td>\n",
       "      <td>0</td>\n",
       "      <td>24</td>\n",
       "      <td>3.28</td>\n",
       "    </tr>\n",
       "    <tr>\n",
       "      <th>3</th>\n",
       "      <td>0</td>\n",
       "      <td>0</td>\n",
       "      <td>12</td>\n",
       "      <td>2.92</td>\n",
       "    </tr>\n",
       "    <tr>\n",
       "      <th>4</th>\n",
       "      <td>1</td>\n",
       "      <td>0</td>\n",
       "      <td>21</td>\n",
       "      <td>4.00</td>\n",
       "    </tr>\n",
       "    <tr>\n",
       "      <th>5</th>\n",
       "      <td>0</td>\n",
       "      <td>0</td>\n",
       "      <td>17</td>\n",
       "      <td>2.86</td>\n",
       "    </tr>\n",
       "    <tr>\n",
       "      <th>6</th>\n",
       "      <td>0</td>\n",
       "      <td>0</td>\n",
       "      <td>17</td>\n",
       "      <td>2.76</td>\n",
       "    </tr>\n",
       "    <tr>\n",
       "      <th>7</th>\n",
       "      <td>0</td>\n",
       "      <td>0</td>\n",
       "      <td>21</td>\n",
       "      <td>2.87</td>\n",
       "    </tr>\n",
       "    <tr>\n",
       "      <th>8</th>\n",
       "      <td>0</td>\n",
       "      <td>0</td>\n",
       "      <td>25</td>\n",
       "      <td>3.03</td>\n",
       "    </tr>\n",
       "    <tr>\n",
       "      <th>9</th>\n",
       "      <td>1</td>\n",
       "      <td>0</td>\n",
       "      <td>29</td>\n",
       "      <td>3.92</td>\n",
       "    </tr>\n",
       "  </tbody>\n",
       "</table>\n",
       "</div>"
      ],
      "text/plain": [
       "   GRADE  PSI  TUCE   GPA\n",
       "0      0    0    20  2.66\n",
       "1      0    0    22  2.89\n",
       "2      0    0    24  3.28\n",
       "3      0    0    12  2.92\n",
       "4      1    0    21  4.00\n",
       "5      0    0    17  2.86\n",
       "6      0    0    17  2.76\n",
       "7      0    0    21  2.87\n",
       "8      0    0    25  3.03\n",
       "9      1    0    29  3.92"
      ]
     },
     "execution_count": 7,
     "metadata": {},
     "output_type": "execute_result"
    }
   ],
   "source": [
    "data[:10]"
   ]
  },
  {
   "cell_type": "code",
   "execution_count": 6,
   "metadata": {},
   "outputs": [
    {
     "data": {
      "text/plain": [
       "array([[ 1.  ,  0.  , 20.  ,  2.66],\n",
       "       [ 1.  ,  0.  , 22.  ,  2.89],\n",
       "       [ 1.  ,  0.  , 24.  ,  3.28],\n",
       "       [ 1.  ,  0.  , 12.  ,  2.92],\n",
       "       [ 1.  ,  0.  , 21.  ,  4.  ],\n",
       "       [ 1.  ,  0.  , 17.  ,  2.86],\n",
       "       [ 1.  ,  0.  , 17.  ,  2.76],\n",
       "       [ 1.  ,  0.  , 21.  ,  2.87],\n",
       "       [ 1.  ,  0.  , 25.  ,  3.03],\n",
       "       [ 1.  ,  0.  , 29.  ,  3.92],\n",
       "       [ 1.  ,  0.  , 20.  ,  2.63],\n",
       "       [ 1.  ,  0.  , 23.  ,  3.32],\n",
       "       [ 1.  ,  0.  , 23.  ,  3.57],\n",
       "       [ 1.  ,  0.  , 25.  ,  3.26],\n",
       "       [ 1.  ,  0.  , 26.  ,  3.53],\n",
       "       [ 1.  ,  0.  , 19.  ,  2.74],\n",
       "       [ 1.  ,  0.  , 25.  ,  2.75],\n",
       "       [ 1.  ,  0.  , 19.  ,  2.83],\n",
       "       [ 1.  ,  1.  , 23.  ,  3.12],\n",
       "       [ 1.  ,  1.  , 25.  ,  3.16],\n",
       "       [ 1.  ,  1.  , 22.  ,  2.06],\n",
       "       [ 1.  ,  1.  , 28.  ,  3.62],\n",
       "       [ 1.  ,  1.  , 14.  ,  2.89],\n",
       "       [ 1.  ,  1.  , 26.  ,  3.51],\n",
       "       [ 1.  ,  1.  , 24.  ,  3.54],\n",
       "       [ 1.  ,  1.  , 27.  ,  2.83],\n",
       "       [ 1.  ,  1.  , 17.  ,  3.39],\n",
       "       [ 1.  ,  1.  , 24.  ,  2.67],\n",
       "       [ 1.  ,  1.  , 21.  ,  3.65],\n",
       "       [ 1.  ,  1.  , 23.  ,  4.  ],\n",
       "       [ 1.  ,  1.  , 21.  ,  3.1 ],\n",
       "       [ 1.  ,  1.  , 19.  ,  2.39]])"
      ]
     },
     "execution_count": 6,
     "metadata": {},
     "output_type": "execute_result"
    }
   ],
   "source": [
    "import statsmodels.api as sm\n",
    "\n",
    "X = data.drop('GRADE', axis=1).values\n",
    "y = data.GRADE\n",
    "X = sm.add_constant(X)\n",
    "X"
   ]
  },
  {
   "cell_type": "markdown",
   "metadata": {},
   "source": [
    "Calculate manually"
   ]
  },
  {
   "cell_type": "code",
   "execution_count": 37,
   "metadata": {},
   "outputs": [
    {
     "name": "stdout",
     "output_type": "stream",
     "text": [
      "Optimization terminated successfully.\n",
      "         Current function value: 12.889634\n",
      "         Iterations: 453\n",
      "         Function evaluations: 755\n"
     ]
    },
    {
     "data": {
      "text/plain": [
       "array([-13.02131544,   2.37868517,   0.09515819,   2.82610102])"
      ]
     },
     "execution_count": 37,
     "metadata": {},
     "output_type": "execute_result"
    }
   ],
   "source": [
    "from scipy.optimize import fmin\n",
    "\n",
    "def sig(x):\n",
    "    return np.exp(x)/(1+np.exp(x))\n",
    "\n",
    "def predict(beta, x):\n",
    "    return sig(np.dot(x, beta))\n",
    "\n",
    "EPS = np.finfo(float).eps  # numerics is fun\n",
    "def negloglikelihood(beta):\n",
    "    return -np.sum(y*np.log(predict(beta, X) + EPS) + (1-y)*np.log(1-predict(beta, X) + EPS))\n",
    "         \n",
    "n, p = X.shape                 \n",
    "beta0 = np.zeros(p)\n",
    "\n",
    "beta_hat = fmin(negloglikelihood, beta0) \n",
    "\n",
    "beta_hat "
   ]
  },
  {
   "cell_type": "markdown",
   "metadata": {},
   "source": [
    "Using Statsmodels"
   ]
  },
  {
   "cell_type": "code",
   "execution_count": 39,
   "metadata": {},
   "outputs": [
    {
     "name": "stdout",
     "output_type": "stream",
     "text": [
      "12.889634222131402\n",
      "const   -13.021347\n",
      "x1        2.378688\n",
      "x2        0.095158\n",
      "x3        2.826113\n",
      "dtype: float64\n"
     ]
    }
   ],
   "source": [
    "res = sm.GLM(y, X, family=sm.families.Binomial()).fit()\n",
    "beta_hat2 = res.params\n",
    "\n",
    "print(negloglikelihood(beta_hat2))\n",
    "print(beta_hat2)"
   ]
  }
 ],
 "metadata": {
  "kernelspec": {
   "display_name": "Python 3",
   "language": "python",
   "name": "python3"
  },
  "language_info": {
   "codemirror_mode": {
    "name": "ipython",
    "version": 3
   },
   "file_extension": ".py",
   "mimetype": "text/x-python",
   "name": "python",
   "nbconvert_exporter": "python",
   "pygments_lexer": "ipython3",
   "version": "3.8.2"
  }
 },
 "nbformat": 4,
 "nbformat_minor": 4
}
