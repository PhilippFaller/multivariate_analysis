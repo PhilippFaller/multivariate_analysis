{
 "cells": [
  {
   "cell_type": "code",
   "execution_count": 1,
   "metadata": {},
   "outputs": [],
   "source": [
    "import numpy as np\n",
    "import pandas as pd\n",
    "import matplotlib.pyplot as plt"
   ]
  },
  {
   "cell_type": "code",
   "execution_count": 17,
   "metadata": {},
   "outputs": [
    {
     "data": {
      "text/html": [
       "<div>\n",
       "<style scoped>\n",
       "    .dataframe tbody tr th:only-of-type {\n",
       "        vertical-align: middle;\n",
       "    }\n",
       "\n",
       "    .dataframe tbody tr th {\n",
       "        vertical-align: top;\n",
       "    }\n",
       "\n",
       "    .dataframe thead th {\n",
       "        text-align: right;\n",
       "    }\n",
       "</style>\n",
       "<table border=\"1\" class=\"dataframe\">\n",
       "  <thead>\n",
       "    <tr style=\"text-align: right;\">\n",
       "      <th></th>\n",
       "      <th>0</th>\n",
       "      <th>1</th>\n",
       "      <th>2</th>\n",
       "      <th>3</th>\n",
       "      <th>4</th>\n",
       "      <th>5</th>\n",
       "      <th>6</th>\n",
       "      <th>7</th>\n",
       "      <th>8</th>\n",
       "      <th>9</th>\n",
       "    </tr>\n",
       "  </thead>\n",
       "  <tbody>\n",
       "    <tr>\n",
       "      <th>0</th>\n",
       "      <td>0</td>\n",
       "      <td>45</td>\n",
       "      <td>17</td>\n",
       "      <td>44</td>\n",
       "      <td>42</td>\n",
       "      <td>32</td>\n",
       "      <td>31</td>\n",
       "      <td>27</td>\n",
       "      <td>25</td>\n",
       "      <td>11</td>\n",
       "    </tr>\n",
       "    <tr>\n",
       "      <th>1</th>\n",
       "      <td>45</td>\n",
       "      <td>0</td>\n",
       "      <td>34</td>\n",
       "      <td>14</td>\n",
       "      <td>12</td>\n",
       "      <td>21</td>\n",
       "      <td>35</td>\n",
       "      <td>37</td>\n",
       "      <td>25</td>\n",
       "      <td>39</td>\n",
       "    </tr>\n",
       "    <tr>\n",
       "      <th>2</th>\n",
       "      <td>17</td>\n",
       "      <td>34</td>\n",
       "      <td>0</td>\n",
       "      <td>30</td>\n",
       "      <td>18</td>\n",
       "      <td>5</td>\n",
       "      <td>4</td>\n",
       "      <td>22</td>\n",
       "      <td>9</td>\n",
       "      <td>7</td>\n",
       "    </tr>\n",
       "    <tr>\n",
       "      <th>3</th>\n",
       "      <td>44</td>\n",
       "      <td>14</td>\n",
       "      <td>30</td>\n",
       "      <td>0</td>\n",
       "      <td>1</td>\n",
       "      <td>15</td>\n",
       "      <td>24</td>\n",
       "      <td>43</td>\n",
       "      <td>38</td>\n",
       "      <td>41</td>\n",
       "    </tr>\n",
       "    <tr>\n",
       "      <th>4</th>\n",
       "      <td>42</td>\n",
       "      <td>12</td>\n",
       "      <td>18</td>\n",
       "      <td>1</td>\n",
       "      <td>0</td>\n",
       "      <td>2</td>\n",
       "      <td>13</td>\n",
       "      <td>40</td>\n",
       "      <td>28</td>\n",
       "      <td>33</td>\n",
       "    </tr>\n",
       "    <tr>\n",
       "      <th>5</th>\n",
       "      <td>32</td>\n",
       "      <td>21</td>\n",
       "      <td>5</td>\n",
       "      <td>15</td>\n",
       "      <td>2</td>\n",
       "      <td>0</td>\n",
       "      <td>10</td>\n",
       "      <td>29</td>\n",
       "      <td>16</td>\n",
       "      <td>19</td>\n",
       "    </tr>\n",
       "    <tr>\n",
       "      <th>6</th>\n",
       "      <td>31</td>\n",
       "      <td>35</td>\n",
       "      <td>4</td>\n",
       "      <td>24</td>\n",
       "      <td>13</td>\n",
       "      <td>10</td>\n",
       "      <td>0</td>\n",
       "      <td>36</td>\n",
       "      <td>23</td>\n",
       "      <td>20</td>\n",
       "    </tr>\n",
       "    <tr>\n",
       "      <th>7</th>\n",
       "      <td>27</td>\n",
       "      <td>37</td>\n",
       "      <td>22</td>\n",
       "      <td>43</td>\n",
       "      <td>40</td>\n",
       "      <td>29</td>\n",
       "      <td>36</td>\n",
       "      <td>0</td>\n",
       "      <td>3</td>\n",
       "      <td>8</td>\n",
       "    </tr>\n",
       "    <tr>\n",
       "      <th>8</th>\n",
       "      <td>25</td>\n",
       "      <td>25</td>\n",
       "      <td>9</td>\n",
       "      <td>38</td>\n",
       "      <td>28</td>\n",
       "      <td>16</td>\n",
       "      <td>23</td>\n",
       "      <td>3</td>\n",
       "      <td>0</td>\n",
       "      <td>6</td>\n",
       "    </tr>\n",
       "    <tr>\n",
       "      <th>9</th>\n",
       "      <td>11</td>\n",
       "      <td>39</td>\n",
       "      <td>7</td>\n",
       "      <td>41</td>\n",
       "      <td>33</td>\n",
       "      <td>19</td>\n",
       "      <td>20</td>\n",
       "      <td>8</td>\n",
       "      <td>6</td>\n",
       "      <td>0</td>\n",
       "    </tr>\n",
       "  </tbody>\n",
       "</table>\n",
       "</div>"
      ],
      "text/plain": [
       "    0   1   2   3   4   5   6   7   8   9\n",
       "0   0  45  17  44  42  32  31  27  25  11\n",
       "1  45   0  34  14  12  21  35  37  25  39\n",
       "2  17  34   0  30  18   5   4  22   9   7\n",
       "3  44  14  30   0   1  15  24  43  38  41\n",
       "4  42  12  18   1   0   2  13  40  28  33\n",
       "5  32  21   5  15   2   0  10  29  16  19\n",
       "6  31  35   4  24  13  10   0  36  23  20\n",
       "7  27  37  22  43  40  29  36   0   3   8\n",
       "8  25  25   9  38  28  16  23   3   0   6\n",
       "9  11  39   7  41  33  19  20   8   6   0"
      ]
     },
     "execution_count": 17,
     "metadata": {},
     "output_type": "execute_result"
    }
   ],
   "source": [
    "data = pd.read_csv('data/staedte.csv', header=None)\n",
    "cities = ['Basel','Berlin','Frankfurt','Hamburg','Hannover','Kassel','Köln','München','Nürnberg','Stuttgart']\n",
    "data"
   ]
  },
  {
   "cell_type": "code",
   "execution_count": 11,
   "metadata": {},
   "outputs": [
    {
     "data": {
      "text/plain": [
       "array([[ 633.96, -417.14,  181.96, -367.34, -427.79, -187.89,  -56.64,\n",
       "         207.81,   67.21,  365.86],\n",
       "       [-417.14,  556.76, -290.14,  464.06,  343.61,   65.01, -227.24,\n",
       "        -150.79,   28.61, -372.74],\n",
       "       [ 181.96, -290.14,   18.96, -156.84,  -15.29,    4.11,  108.36,\n",
       "          22.81,   31.71,   94.36],\n",
       "       [-367.34,  464.06, -156.84,  567.36,  420.41,  178.31,  102.56,\n",
       "        -385.49, -375.59, -447.44],\n",
       "       [-427.79,  343.61,  -15.29,  420.41,  274.46,  142.36,  159.61,\n",
       "        -407.44, -192.04, -297.89],\n",
       "       [-187.89,   65.01,    4.11,  178.31,  142.36,   14.26,   64.01,\n",
       "        -158.04,  -58.14,  -63.99],\n",
       "       [ -56.64, -227.24,  108.36,  102.56,  159.61,   64.01,  213.76,\n",
       "        -285.79,  -94.89,   16.26],\n",
       "       [ 207.81, -150.79,   22.81, -385.49, -407.44, -158.04, -285.79,\n",
       "         510.66,  313.56,  332.71],\n",
       "       [  67.21,   28.61,   31.71, -375.59, -192.04,  -58.14,  -94.89,\n",
       "         313.56,  125.46,  154.11],\n",
       "       [ 365.86, -372.74,   94.36, -447.44, -297.89,  -63.99,   16.26,\n",
       "         332.71,  154.11,  218.76]])"
      ]
     },
     "execution_count": 11,
     "metadata": {},
     "output_type": "execute_result"
    }
   ],
   "source": [
    "n = data.shape[0]\n",
    "c = np.identity(n) - np.ones(data.shape) / n\n",
    "b = -1/2 * np.dot(np.dot(c, data.values**2), c)\n",
    "b"
   ]
  },
  {
   "cell_type": "code",
   "execution_count": 15,
   "metadata": {},
   "outputs": [
    {
     "data": {
      "text/plain": [
       "array([[-20.50336672,  -6.61718153],\n",
       "       [ 18.87044902,  15.67610058],\n",
       "       [ -6.16203912,  -7.711578  ],\n",
       "       [ 23.49977549,  -1.80337848],\n",
       "       [ 18.61759952,  -3.48589364],\n",
       "       [  6.74067193,  -2.52497343],\n",
       "       [  3.40726491, -14.87406087],\n",
       "       [-17.67561534,  14.03755061],\n",
       "       [ -9.52744842,   9.07018123],\n",
       "       [-17.26729128,  -1.76676646]])"
      ]
     },
     "execution_count": 15,
     "metadata": {},
     "output_type": "execute_result"
    }
   ],
   "source": [
    "l, a = np.linalg.eig(b)\n",
    "x = np.dot(a[:, :2], np.diag(np.sqrt(l[:2])))\n",
    "x"
   ]
  },
  {
   "cell_type": "markdown",
   "metadata": {},
   "source": [
    "Metric Multidimensional Scaling"
   ]
  },
  {
   "cell_type": "code",
   "execution_count": 24,
   "metadata": {},
   "outputs": [
    {
     "data": {
      "image/png": "[encoded data removed]",
      "text/plain": [
       "<Figure size 432x288 with 1 Axes>"
      ]
     },
     "metadata": {
      "needs_background": "light"
     },
     "output_type": "display_data"
    }
   ],
   "source": [
    "import matplotlib.pyplot as plt\n",
    "\n",
    "plt.scatter(x[:, 0], -x[:, 1])\n",
    "for name, v, w in zip(cities, x[:, 0], -x[:, 1]):\n",
    "    plt.annotate(name, xy = (v, w))"
   ]
  },
  {
   "cell_type": "markdown",
   "metadata": {},
   "source": [
    "Non-metric Scaling"
   ]
  },
  {
   "cell_type": "code",
   "execution_count": 29,
   "metadata": {},
   "outputs": [
    {
     "data": {
      "text/plain": [
       "0.1597455717214398"
      ]
     },
     "execution_count": 29,
     "metadata": {},
     "output_type": "execute_result"
    },
    {
     "data": {
      "image/png": "[encoded data removed]",
      "text/plain": [
       "<Figure size 432x288 with 1 Axes>"
      ]
     },
     "metadata": {
      "needs_background": "light"
     },
     "output_type": "display_data"
    }
   ],
   "source": [
    "from sklearn.manifold import MDS\n",
    "\n",
    "mds = MDS(n_components=2, metric=False,dissimilarity ='precomputed')\n",
    "res = mds.fit(data.values)\n",
    "\n",
    "x2 = res.embedding_\n",
    "plt.scatter(x2[:, 0], x2[:, 1])\n",
    "for name, v, w in zip(cities, x2[:, 0], x2[:, 1]):\n",
    "    plt.annotate(name, xy = (v, w))\n",
    "    \n",
    "res.stress_"
   ]
  },
  {
   "cell_type": "markdown",
   "metadata": {},
   "source": [
    "Non-metric Scaling with metric Scaling as initial configuration"
   ]
  },
  {
   "cell_type": "code",
   "execution_count": 30,
   "metadata": {},
   "outputs": [
    {
     "name": "stderr",
     "output_type": "stream",
     "text": [
      "/home/philipp/.local/lib/python3.8/site-packages/sklearn/manifold/_mds.py:238: UserWarning: Explicit initial positions passed: performing only one init of the MDS instead of 4\n",
      "  warnings.warn(\n"
     ]
    },
    {
     "data": {
      "text/plain": [
       "0.01045288790489269"
      ]
     },
     "execution_count": 30,
     "metadata": {},
     "output_type": "execute_result"
    },
    {
     "data": {
      "image/png": "[encoded data removed]",
      "text/plain": [
       "<Figure size 432x288 with 1 Axes>"
      ]
     },
     "metadata": {
      "needs_background": "light"
     },
     "output_type": "display_data"
    }
   ],
   "source": [
    "mds = MDS(n_components=2, metric=False,dissimilarity ='precomputed')\n",
    "res = mds.fit(data.values, init=x)\n",
    "\n",
    "x2 = res.embedding_\n",
    "plt.scatter(x2[:, 0], -x2[:, 1])\n",
    "for name, v, w in zip(cities, x2[:, 0], -x2[:, 1]):\n",
    "    plt.annotate(name, xy = (v, w))\n",
    "    \n",
    "res.stress_"
   ]
  }
 ],
 "metadata": {
  "kernelspec": {
   "display_name": "Python 3",
   "language": "python",
   "name": "python3"
  },
  "language_info": {
   "codemirror_mode": {
    "name": "ipython",
    "version": 3
   },
   "file_extension": ".py",
   "mimetype": "text/x-python",
   "name": "python",
   "nbconvert_exporter": "python",
   "pygments_lexer": "ipython3",
   "version": "3.8.2"
  }
 },
 "nbformat": 4,
 "nbformat_minor": 4
}
