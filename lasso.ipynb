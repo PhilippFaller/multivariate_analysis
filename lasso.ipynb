{
 "cells": [
  {
   "cell_type": "code",
   "execution_count": 9,
   "metadata": {},
   "outputs": [],
   "source": [
    "import pandas as pd\n",
    "import numpy as np\n",
    "import statsmodels.api as sm"
   ]
  },
  {
   "cell_type": "code",
   "execution_count": 7,
   "metadata": {},
   "outputs": [
    {
     "data": {
      "text/html": [
       "<div>\n",
       "<style scoped>\n",
       "    .dataframe tbody tr th:only-of-type {\n",
       "        vertical-align: middle;\n",
       "    }\n",
       "\n",
       "    .dataframe tbody tr th {\n",
       "        vertical-align: top;\n",
       "    }\n",
       "\n",
       "    .dataframe thead th {\n",
       "        text-align: right;\n",
       "    }\n",
       "</style>\n",
       "<table border=\"1\" class=\"dataframe\">\n",
       "  <thead>\n",
       "    <tr style=\"text-align: right;\">\n",
       "      <th></th>\n",
       "      <th>0</th>\n",
       "      <th>1</th>\n",
       "      <th>2</th>\n",
       "      <th>3</th>\n",
       "      <th>4</th>\n",
       "      <th>5</th>\n",
       "      <th>6</th>\n",
       "      <th>7</th>\n",
       "      <th>8</th>\n",
       "      <th>9</th>\n",
       "      <th>10</th>\n",
       "      <th>11</th>\n",
       "      <th>12</th>\n",
       "      <th>13</th>\n",
       "    </tr>\n",
       "  </thead>\n",
       "  <tbody>\n",
       "    <tr>\n",
       "      <th>count</th>\n",
       "      <td>160.000000</td>\n",
       "      <td>160.000000</td>\n",
       "      <td>160.000000</td>\n",
       "      <td>160.000000</td>\n",
       "      <td>160.000000</td>\n",
       "      <td>160.000000</td>\n",
       "      <td>160.000000</td>\n",
       "      <td>160.000000</td>\n",
       "      <td>160.000000</td>\n",
       "      <td>160.000000</td>\n",
       "      <td>160.000000</td>\n",
       "      <td>160.000000</td>\n",
       "      <td>160.000000</td>\n",
       "      <td>160.000000</td>\n",
       "    </tr>\n",
       "    <tr>\n",
       "      <th>mean</th>\n",
       "      <td>9.238383</td>\n",
       "      <td>98.235625</td>\n",
       "      <td>172.319375</td>\n",
       "      <td>65.596250</td>\n",
       "      <td>53.878750</td>\n",
       "      <td>2459.450000</td>\n",
       "      <td>119.093750</td>\n",
       "      <td>3.298437</td>\n",
       "      <td>3.237313</td>\n",
       "      <td>10.145125</td>\n",
       "      <td>95.875000</td>\n",
       "      <td>5116.250000</td>\n",
       "      <td>26.506250</td>\n",
       "      <td>32.068750</td>\n",
       "    </tr>\n",
       "    <tr>\n",
       "      <th>std</th>\n",
       "      <td>0.441229</td>\n",
       "      <td>5.163763</td>\n",
       "      <td>11.548860</td>\n",
       "      <td>1.946999</td>\n",
       "      <td>2.276608</td>\n",
       "      <td>480.897834</td>\n",
       "      <td>30.411186</td>\n",
       "      <td>0.267348</td>\n",
       "      <td>0.294210</td>\n",
       "      <td>3.882507</td>\n",
       "      <td>30.625708</td>\n",
       "      <td>465.290536</td>\n",
       "      <td>6.081208</td>\n",
       "      <td>6.440948</td>\n",
       "    </tr>\n",
       "    <tr>\n",
       "      <th>min</th>\n",
       "      <td>8.540500</td>\n",
       "      <td>86.600000</td>\n",
       "      <td>141.100000</td>\n",
       "      <td>60.300000</td>\n",
       "      <td>49.400000</td>\n",
       "      <td>1488.000000</td>\n",
       "      <td>61.000000</td>\n",
       "      <td>2.540000</td>\n",
       "      <td>2.070000</td>\n",
       "      <td>7.000000</td>\n",
       "      <td>48.000000</td>\n",
       "      <td>4150.000000</td>\n",
       "      <td>15.000000</td>\n",
       "      <td>18.000000</td>\n",
       "    </tr>\n",
       "    <tr>\n",
       "      <th>25%</th>\n",
       "      <td>8.907025</td>\n",
       "      <td>94.500000</td>\n",
       "      <td>165.525000</td>\n",
       "      <td>64.000000</td>\n",
       "      <td>52.000000</td>\n",
       "      <td>2073.250000</td>\n",
       "      <td>97.000000</td>\n",
       "      <td>3.050000</td>\n",
       "      <td>3.107500</td>\n",
       "      <td>8.700000</td>\n",
       "      <td>69.000000</td>\n",
       "      <td>4800.000000</td>\n",
       "      <td>23.000000</td>\n",
       "      <td>28.000000</td>\n",
       "    </tr>\n",
       "    <tr>\n",
       "      <th>50%</th>\n",
       "      <td>9.123000</td>\n",
       "      <td>96.900000</td>\n",
       "      <td>172.200000</td>\n",
       "      <td>65.400000</td>\n",
       "      <td>54.100000</td>\n",
       "      <td>2338.500000</td>\n",
       "      <td>110.000000</td>\n",
       "      <td>3.270000</td>\n",
       "      <td>3.270000</td>\n",
       "      <td>9.000000</td>\n",
       "      <td>88.000000</td>\n",
       "      <td>5200.000000</td>\n",
       "      <td>26.000000</td>\n",
       "      <td>32.000000</td>\n",
       "    </tr>\n",
       "    <tr>\n",
       "      <th>75%</th>\n",
       "      <td>9.585800</td>\n",
       "      <td>100.600000</td>\n",
       "      <td>177.800000</td>\n",
       "      <td>66.500000</td>\n",
       "      <td>55.500000</td>\n",
       "      <td>2808.750000</td>\n",
       "      <td>134.500000</td>\n",
       "      <td>3.550000</td>\n",
       "      <td>3.410000</td>\n",
       "      <td>9.400000</td>\n",
       "      <td>114.000000</td>\n",
       "      <td>5500.000000</td>\n",
       "      <td>31.000000</td>\n",
       "      <td>37.000000</td>\n",
       "    </tr>\n",
       "    <tr>\n",
       "      <th>max</th>\n",
       "      <td>10.465000</td>\n",
       "      <td>115.600000</td>\n",
       "      <td>202.600000</td>\n",
       "      <td>71.700000</td>\n",
       "      <td>59.800000</td>\n",
       "      <td>4066.000000</td>\n",
       "      <td>258.000000</td>\n",
       "      <td>3.940000</td>\n",
       "      <td>4.170000</td>\n",
       "      <td>23.000000</td>\n",
       "      <td>200.000000</td>\n",
       "      <td>6600.000000</td>\n",
       "      <td>49.000000</td>\n",
       "      <td>54.000000</td>\n",
       "    </tr>\n",
       "  </tbody>\n",
       "</table>\n",
       "</div>"
      ],
      "text/plain": [
       "               0           1           2           3           4   \\\n",
       "count  160.000000  160.000000  160.000000  160.000000  160.000000   \n",
       "mean     9.238383   98.235625  172.319375   65.596250   53.878750   \n",
       "std      0.441229    5.163763   11.548860    1.946999    2.276608   \n",
       "min      8.540500   86.600000  141.100000   60.300000   49.400000   \n",
       "25%      8.907025   94.500000  165.525000   64.000000   52.000000   \n",
       "50%      9.123000   96.900000  172.200000   65.400000   54.100000   \n",
       "75%      9.585800  100.600000  177.800000   66.500000   55.500000   \n",
       "max     10.465000  115.600000  202.600000   71.700000   59.800000   \n",
       "\n",
       "                5           6           7           8           9   \\\n",
       "count   160.000000  160.000000  160.000000  160.000000  160.000000   \n",
       "mean   2459.450000  119.093750    3.298437    3.237313   10.145125   \n",
       "std     480.897834   30.411186    0.267348    0.294210    3.882507   \n",
       "min    1488.000000   61.000000    2.540000    2.070000    7.000000   \n",
       "25%    2073.250000   97.000000    3.050000    3.107500    8.700000   \n",
       "50%    2338.500000  110.000000    3.270000    3.270000    9.000000   \n",
       "75%    2808.750000  134.500000    3.550000    3.410000    9.400000   \n",
       "max    4066.000000  258.000000    3.940000    4.170000   23.000000   \n",
       "\n",
       "               10           11          12          13  \n",
       "count  160.000000   160.000000  160.000000  160.000000  \n",
       "mean    95.875000  5116.250000   26.506250   32.068750  \n",
       "std     30.625708   465.290536    6.081208    6.440948  \n",
       "min     48.000000  4150.000000   15.000000   18.000000  \n",
       "25%     69.000000  4800.000000   23.000000   28.000000  \n",
       "50%     88.000000  5200.000000   26.000000   32.000000  \n",
       "75%    114.000000  5500.000000   31.000000   37.000000  \n",
       "max    200.000000  6600.000000   49.000000   54.000000  "
      ]
     },
     "execution_count": 7,
     "metadata": {},
     "output_type": "execute_result"
    }
   ],
   "source": [
    "data = pd.read_csv('data/imports.csv', header=None)\n",
    "data.describe()"
   ]
  },
  {
   "cell_type": "code",
   "execution_count": 10,
   "metadata": {},
   "outputs": [
    {
     "data": {
      "text/plain": [
       "array([[1.000e+00, 9.980e+01, 1.766e+02, ..., 5.500e+03, 2.400e+01,\n",
       "        3.000e+01],\n",
       "       [1.000e+00, 9.940e+01, 1.766e+02, ..., 5.500e+03, 1.800e+01,\n",
       "        2.200e+01],\n",
       "       [1.000e+00, 1.058e+02, 1.927e+02, ..., 5.500e+03, 1.900e+01,\n",
       "        2.500e+01],\n",
       "       ...,\n",
       "       [1.000e+00, 1.091e+02, 1.888e+02, ..., 5.500e+03, 1.800e+01,\n",
       "        2.300e+01],\n",
       "       [1.000e+00, 1.091e+02, 1.888e+02, ..., 4.800e+03, 2.600e+01,\n",
       "        2.700e+01],\n",
       "       [1.000e+00, 1.091e+02, 1.888e+02, ..., 5.400e+03, 1.900e+01,\n",
       "        2.500e+01]])"
      ]
     },
     "execution_count": 10,
     "metadata": {},
     "output_type": "execute_result"
    }
   ],
   "source": [
    "X = data.values[:, 1:]\n",
    "y = data.values[:, 0]\n",
    "\n",
    "X = sm.add_constant(X)\n",
    "X"
   ]
  },
  {
   "cell_type": "code",
   "execution_count": 36,
   "metadata": {},
   "outputs": [
    {
     "data": {
      "text/plain": [
       "0.011497569953977368"
      ]
     },
     "execution_count": 36,
     "metadata": {},
     "output_type": "execute_result"
    }
   ],
   "source": [
    "from sklearn.linear_model import LassoCV\n",
    "\n",
    "clf = LassoCV(cv=5, alphas=np.logspace(-4, 0, 100))\n",
    "reg = clf.fit(X, y)\n",
    "reg.alpha_"
   ]
  },
  {
   "cell_type": "code",
   "execution_count": 37,
   "metadata": {},
   "outputs": [
    {
     "data": {
      "text/plain": [
       "array([0.03207821, 0.03208956, 0.03209076, 0.03198561, 0.03191045,\n",
       "       0.03186776, 0.03185034, 0.03185236, 0.03173824, 0.03164363,\n",
       "       0.03157   , 0.03151325, 0.03147014, 0.03143819, 0.03141474,\n",
       "       0.03147451, 0.03155253, 0.03163805, 0.03172942, 0.03182368,\n",
       "       0.03187539, 0.03187984, 0.03190295, 0.03193972, 0.03198445,\n",
       "       0.03199941, 0.03196522, 0.03194311, 0.03191374, 0.03185362,\n",
       "       0.03183166, 0.03179868, 0.03175115, 0.03172173, 0.03174828,\n",
       "       0.03176133, 0.03168236, 0.03166837, 0.03166789, 0.03164317,\n",
       "       0.03156363, 0.03150276, 0.03146705, 0.031437  , 0.03139372,\n",
       "       0.0313673 , 0.03135228, 0.03133866, 0.03132859, 0.03133952,\n",
       "       0.03136911, 0.03142754, 0.03162717, 0.03182552, 0.03202332,\n",
       "       0.03221768, 0.03240504, 0.03258839, 0.03279992, 0.03299944,\n",
       "       0.03319349, 0.03337959, 0.03355734, 0.03375428, 0.03396058,\n",
       "       0.03416428, 0.03435559, 0.03451008, 0.03465977, 0.03478759,\n",
       "       0.03493108, 0.03510979, 0.03528159, 0.03544454, 0.03559788,\n",
       "       0.03574137, 0.03587523, 0.03599985, 0.03611556, 0.03622328,\n",
       "       0.03632306, 0.03641536, 0.03650052, 0.03657903, 0.03665133,\n",
       "       0.03671784, 0.03677896, 0.03683508, 0.03688659, 0.03693382,\n",
       "       0.03697711, 0.03701676, 0.03705307, 0.0370863 , 0.03711667,\n",
       "       0.03714447, 0.03716987, 0.03719308, 0.03721429, 0.03723365])"
      ]
     },
     "execution_count": 37,
     "metadata": {},
     "output_type": "execute_result"
    }
   ],
   "source": [
    "np.mean(clf.mse_path_, axis=1)"
   ]
  },
  {
   "cell_type": "code",
   "execution_count": 38,
   "metadata": {},
   "outputs": [
    {
     "data": {
      "text/plain": [
       "<matplotlib.lines.Line2D at 0x7f09bc4834c0>"
      ]
     },
     "execution_count": 38,
     "metadata": {},
     "output_type": "execute_result"
    },
    {
     "data": {
      "image/png": "[encoded data removed]",
      "text/plain": [
       "<Figure size 432x288 with 1 Axes>"
      ]
     },
     "metadata": {
      "needs_background": "light"
     },
     "output_type": "display_data"
    }
   ],
   "source": [
    "import matplotlib.pyplot as plt\n",
    "\n",
    "std = np.std(clf.mse_path_, axis=1)\n",
    "plt.plot(clf.alphas_, clf.mse_path_, alpha=.3)\n",
    "plt.errorbar(clf.alphas_, clf.mse_path_.mean(axis=1), yerr=std)\n",
    "\n",
    "best_idx = np.argmin(clf.mse_path_.mean(axis=1))\n",
    "plt.axvline(clf.alphas_[best_idx], linestyle=':')\n",
    "\n",
    "idx_sparse = np.argmin(std)\n",
    "plt.axvline(clf.alphas_[idx_sparse], linestyle=':')"
   ]
  },
  {
   "cell_type": "code",
   "execution_count": 60,
   "metadata": {},
   "outputs": [],
   "source": [
    "from sklearn.preprocessing import StandardScaler\n",
    "from sklearn.linear_model import lasso_path\n",
    "\n",
    "X = data.values[:, 1:]\n",
    "X_dash = StandardScaler().fit_transform(X)\n",
    "la_alpha, coefs, _ = lasso_path(X_dash, y, alphas=np.logspace(-4, 0, 100))"
   ]
  },
  {
   "cell_type": "code",
   "execution_count": 61,
   "metadata": {},
   "outputs": [
    {
     "data": {
      "text/plain": [
       "<matplotlib.lines.Line2D at 0x7f09b3c3ddf0>"
      ]
     },
     "execution_count": 61,
     "metadata": {},
     "output_type": "execute_result"
    },
    {
     "data": {
      "image/png": "[encoded data removed]",
      "text/plain": [
       "<Figure size 432x288 with 1 Axes>"
      ]
     },
     "metadata": {
      "needs_background": "light"
     },
     "output_type": "display_data"
    }
   ],
   "source": [
    "plt.plot(la_alpha, coefs.T)\n",
    "plt.axvline(reg.alpha_, linestyle=':')\n",
    "plt.axvline(clf.alphas_[idx_sparse], linestyle=':')"
   ]
  },
  {
   "cell_type": "code",
   "execution_count": 66,
   "metadata": {},
   "outputs": [
    {
     "name": "stdout",
     "output_type": "stream",
     "text": [
      "(9,)\n"
     ]
    },
    {
     "data": {
      "text/plain": [
       "array(['wheel-base', 'length', 'width', 'curb-weight', 'engine-size',\n",
       "       'compression-ratio', 'horsepower', 'peak-rpm', 'city-mpg'],\n",
       "      dtype='<U17')"
      ]
     },
     "execution_count": 66,
     "metadata": {},
     "output_type": "execute_result"
    }
   ],
   "source": [
    "predictorNames = np.array(['wheel-base' ,'length' ,'width' ,'height', 'curb-weight' ,'engine-size', 'bore',\n",
    "                  'stroke' ,'compression-ratio', 'horsepower', 'peak-rpm', 'city-mpg', 'highway-mpg'])\n",
    "\n",
    "idx = [i for i, beta in enumerate(reg.coef_[1:]) if beta != 0]\n",
    "print(predictorNames[idx].shape)\n",
    "predictorNames[idx]"
   ]
  },
  {
   "cell_type": "code",
   "execution_count": 67,
   "metadata": {},
   "outputs": [
    {
     "data": {
      "text/plain": [
       "array(['length', 'width', 'curb-weight', 'horsepower'], dtype='<U17')"
      ]
     },
     "execution_count": 67,
     "metadata": {},
     "output_type": "execute_result"
    }
   ],
   "source": [
    "predictorNames[[i for i, beta in enumerate(coefs[:, idx_sparse]) if beta != 0]]"
   ]
  }
 ],
 "metadata": {
  "kernelspec": {
   "display_name": "Python 3",
   "language": "python",
   "name": "python3"
  },
  "language_info": {
   "codemirror_mode": {
    "name": "ipython",
    "version": 3
   },
   "file_extension": ".py",
   "mimetype": "text/x-python",
   "name": "python",
   "nbconvert_exporter": "python",
   "pygments_lexer": "ipython3",
   "version": "3.8.2"
  }
 },
 "nbformat": 4,
 "nbformat_minor": 4
}
